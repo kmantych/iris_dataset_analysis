{
 "cells": [
  {
   "cell_type": "markdown",
   "metadata": {},
   "source": [
    "Katherine Mantych"
   ]
  },
  {
   "cell_type": "markdown",
   "metadata": {},
   "source": [
    "Project 01"
   ]
  },
  {
   "cell_type": "markdown",
   "metadata": {},
   "source": [
    "224-775-0356"
   ]
  },
  {
   "cell_type": "code",
   "execution_count": 49,
   "metadata": {},
   "outputs": [],
   "source": [
    "#required imports for the entire project\n",
    "from scipy.io import arff\n",
    "import pandas as pd\n",
    "import numpy as np\n",
    "import matplotlib.pyplot as plt\n",
    "from scipy.stats import f\n",
    "from matplotlib.backends.backend_pdf import PdfPages\n",
    "from sklearn.feature_selection import SelectKBest\n",
    "from sklearn.feature_selection import chi2\n",
    "from IPython.display import Image\n",
    "from IPython.core.display import HTML "
   ]
  },
  {
   "cell_type": "markdown",
   "metadata": {},
   "source": [
    "The following cells include any functions used in the project"
   ]
  },
  {
   "cell_type": "code",
   "execution_count": 50,
   "metadata": {},
   "outputs": [],
   "source": [
    "def mahalanobis2(inv_cov_mat, means_mat, obervation_mat):\n",
    "    diff = np.subtract(obervation_mat, means_mat)\n",
    "    diffT = np.transpose(diff)\n",
    "    temp = np.matmul(diff, inv_cov_mat)\n",
    "    return np.matmul(temp, diffT)[0]"
   ]
  },
  {
   "cell_type": "code",
   "execution_count": 51,
   "metadata": {},
   "outputs": [],
   "source": [
    "def find_outliers(df, acr):\n",
    "        \n",
    "        cov = df.cov()\n",
    "        invcov = np.linalg.inv(cov)\n",
    "        means_mat = np.transpose(pd.DataFrame(df.mean()).to_numpy())\n",
    "        outliers = False\n",
    "        for i in range (0, 50):\n",
    "            if mahalanobis2(invcov, means_mat, df.iloc[i].to_numpy()) >= acr:\n",
    "                print('outlier at index ' + str(i))\n",
    "                outliers = True\n",
    "            \n",
    "        if outliers == False:\n",
    "            print('no outliers found')\n",
    "           \n",
    "        del cov, invcov, means_mat\n",
    "        return"
   ]
  },
  {
   "cell_type": "code",
   "execution_count": 52,
   "metadata": {},
   "outputs": [],
   "source": [
    "#alpha is assumed to be .05\n",
    "def ACR(p,n):\n",
    "    Fc = f.ppf(1-.05/n, p, n-p-1)\n",
    "    return (p*(n-1)**2*Fc)/(n*(n-p-1)+(n*p*Fc))"
   ]
  },
  {
   "cell_type": "code",
   "execution_count": 53,
   "metadata": {},
   "outputs": [],
   "source": [
    "def plot_outlier(df, outlier_index):\n",
    "    plt.scatter(df['petallength'], df['sepallength'])\n",
    "    plt.annotate(\"outlier\", (df.iloc[outlier_index][2], df.iloc[outlier_index][0]))\n",
    "    plt.show() \n",
    "   \n",
    "    plt.scatter(df['petalwidth'], df['sepalwidth'])\n",
    "    plt.annotate(\"outlier\", (df.iloc[outlier_index][3], df.iloc[outlier_index][1]))\n",
    "    plt.show()"
   ]
  },
  {
   "cell_type": "code",
   "execution_count": 54,
   "metadata": {},
   "outputs": [],
   "source": [
    "def make_plot(df, x, y, pp):\n",
    "\n",
    "    plt.scatter(df[x], df[y])\n",
    "\n",
    "    #change the title\n",
    "    plt.suptitle( y + ' vs ' + x, fontsize = 20)\n",
    "\n",
    "    #change the x and y axis labels\n",
    "    plt.xlabel(x)\n",
    "    plt.ylabel(y)\n",
    "    plt.savefig(pp, format='pdf')\n",
    "    plt.close()\n",
    "   \n",
    "    return"
   ]
  },
  {
   "cell_type": "markdown",
   "metadata": {},
   "source": [
    "Problem 1"
   ]
  },
  {
   "cell_type": "code",
   "execution_count": 55,
   "metadata": {},
   "outputs": [
    {
     "name": "stdout",
     "output_type": "stream",
     "text": [
      "do you want to enter .arff filename? If not, the default file location fo the iris dataset will be used. (y/n) n\n"
     ]
    }
   ],
   "source": [
    "#allow user to input file name. Default is the local location of iris.arff\n",
    "user_wants_to_manually_enter_filename=input('do you want to enter .arff filename? If not, the default file location fo the iris dataset will be used. (y/n) ')\n",
    "if user_wants_to_manually_enter_filename == 'y':\n",
    "    file_name=input('enter filename with extension: ')\n",
    "else:\n",
    "    file_name = 'input/iris.arff'\n",
    "    \n",
    "#load the iris data into a pandas dataframe\n",
    "iris_data = arff.loadarff(file_name)\n",
    "iris_df = pd.DataFrame(iris_data[0])\n",
    "\n",
    "#preproccesing. label class as 1, 2, 3 vs their string names\n",
    "del iris_df['class']\n",
    "iris_data_with_class = pd.DataFrame(iris_df)\n",
    "list1 = [1] * 50\n",
    "list2 = [2] * 50\n",
    "list3 = [3] * 50\n",
    "class_list = list1 + list2 + list3\n",
    "iris_data_with_class.insert(4, \"class\", class_list, True)"
   ]
  },
  {
   "cell_type": "markdown",
   "metadata": {},
   "source": [
    "<b>Problem 2</b>"
   ]
  },
  {
   "cell_type": "code",
   "execution_count": 60,
   "metadata": {},
   "outputs": [
    {
     "name": "stdout",
     "output_type": "stream",
     "text": [
      "Would you like to plot two features? (y/n) n\n"
     ]
    }
   ],
   "source": [
    "#determine if user wants to plot graphs\n",
    "user_wants_plots = input('Would you like to plot two features? (y/n) ')\n",
    "\n",
    "#group the observations by class so that they will have different colors when plotted\n",
    "groups = iris_data_with_class.groupby(\"class\")\n",
    "#create file to save plots to. Alert user to filename\n",
    "pp = PdfPages('irisplots.pdf')   \n",
    "    \n",
    "while user_wants_plots == 'y':\n",
    "    \n",
    "    print('plots will be saved to a file named irisplots.pdf')\n",
    "    \n",
    "    #determine features to be plotted\n",
    "    print('available features: petallength, petalwidth, sepallength, sepalwidth')\n",
    "    y = input('enter y-axis feature name: ')\n",
    "    x = input('enter x-axis feature name: ')\n",
    "\n",
    "    #plot the observations\n",
    "    for name, group in groups:\n",
    "        fig = plt.plot(group[x], group[y], marker=\"o\", linestyle=\"\", label=name)\n",
    "\n",
    "    #changes the name of the legend items    \n",
    "    L=plt.legend()\n",
    "    L.get_texts()[0].set_text('class 1: setosa')\n",
    "    L.get_texts()[1].set_text('class 2: versicolor')\n",
    "    L.get_texts()[2].set_text('class 3: virginical')\n",
    "\n",
    "    #change the title\n",
    "    plt.suptitle(y + ' vs ' + x, fontsize = 20)\n",
    "\n",
    "    #change the x and y axis labels\n",
    "    plt.xlabel(x)\n",
    "    plt.ylabel(y)\n",
    "\n",
    "    #save the image to a file\n",
    "    plt.savefig(pp, format='pdf')\n",
    "    plt.clf()\n",
    "    \n",
    "    #ask if the user wants another plot\n",
    "    user_wants_plots = input('Would you like to make another plot? (y/n) ')\n",
    "\n",
    "pp.close()"
   ]
  },
  {
   "cell_type": "markdown",
   "metadata": {},
   "source": [
    "<b>Problem 3 Part(a)</b> <br>\n",
    "For my sorting function, I am using <b>pandas.DataFrame.sort_values</b> and I specify that I want to use merge sort. I decided to use merge sort for 2 reason, the first being it has better time-complexity than any other sorting method. Second, I ran several trials where I took the wall time of the merge sort and the quick sort versions. Every time, merge sort performed better in real time than quicksort for the iris data. Here is the pseudocode for mergesort from Introduction to Algorithms: <br>\n",
    "<br>\n",
    "MERGE-SORT(A, p, r) <br>\n",
    "&emsp;if p < r<br>\n",
    "&emsp;&emsp;\t\tq = floor((p+r)/2)<br>\n",
    "&emsp;&emsp;\t\tMERGE-SORT(A, p, q)<br>\n",
    "&emsp;&emsp;\t\tMERGE_SORT(A, q+1, r)<br>\n",
    "&emsp;&emsp;\t\tMERGE(A, p, q, r)<br>\n",
    "<br>\n",
    "<b>Problem 3 Part (b)</b> <br>\n",
    "Merge sort has a time complexity of O(nlogn). \n"
   ]
  },
  {
   "cell_type": "markdown",
   "metadata": {},
   "source": [
    "<b>Problem 3 Part (c)</b>"
   ]
  },
  {
   "cell_type": "code",
   "execution_count": 61,
   "metadata": {},
   "outputs": [],
   "source": [
    "#increase number of rows that are displayed so that we can see entire table if wanted\n",
    "pd.set_option('display.max_rows', 200)\n",
    "\n",
    "#sort by each of the four features and save a df that can be accessed later\n",
    "sorted_by_sepallength = iris_data_with_class.sort_values(by=['sepallength'], ascending=True, inplace=False, kind='quicksort')\n",
    "sorted_by_sepalwidth = iris_data_with_class.sort_values(by=['sepalwidth'], ascending=True, inplace=False, kind='quicksort')\n",
    "sorted_by_petallength = iris_data_with_class.sort_values(by=['petallength'], ascending=True, inplace=False, kind='quicksort')\n",
    "sorted_by_petalwidth = iris_data_with_class.sort_values(by=['petalwidth'], ascending=True, inplace=False, kind='quicksort')"
   ]
  },
  {
   "cell_type": "markdown",
   "metadata": {},
   "source": [
    "<b> Problem 3 Part (d) </b> <br>\n",
    "The cell below evaluates the sorted lists by counting how many observations are from class 1, class 2 and class 3 in each of the three groups. Group 1 is the first 50 observations in a sorted list, group 2 the next 50, and group 3 the last 50. This is to determine if there is any seperability in the groups when sorted by a feature."
   ]
  },
  {
   "cell_type": "code",
   "execution_count": 62,
   "metadata": {},
   "outputs": [
    {
     "data": {
      "text/html": [
       "<div>\n",
       "<style scoped>\n",
       "    .dataframe tbody tr th:only-of-type {\n",
       "        vertical-align: middle;\n",
       "    }\n",
       "\n",
       "    .dataframe tbody tr th {\n",
       "        vertical-align: top;\n",
       "    }\n",
       "\n",
       "    .dataframe thead th {\n",
       "        text-align: right;\n",
       "    }\n",
       "</style>\n",
       "<table border=\"1\" class=\"dataframe\">\n",
       "  <thead>\n",
       "    <tr style=\"text-align: right;\">\n",
       "      <th></th>\n",
       "      <th>sepallength</th>\n",
       "      <th>sepalwidth</th>\n",
       "      <th>petallength</th>\n",
       "      <th>petalwidth</th>\n",
       "    </tr>\n",
       "  </thead>\n",
       "  <tbody>\n",
       "    <tr>\n",
       "      <th>G1C1</th>\n",
       "      <td>43</td>\n",
       "      <td>1</td>\n",
       "      <td>50</td>\n",
       "      <td>50</td>\n",
       "    </tr>\n",
       "    <tr>\n",
       "      <th>G1C2</th>\n",
       "      <td>6</td>\n",
       "      <td>30</td>\n",
       "      <td>0</td>\n",
       "      <td>0</td>\n",
       "    </tr>\n",
       "    <tr>\n",
       "      <th>G1C3</th>\n",
       "      <td>1</td>\n",
       "      <td>19</td>\n",
       "      <td>0</td>\n",
       "      <td>0</td>\n",
       "    </tr>\n",
       "    <tr>\n",
       "      <th>G2C1</th>\n",
       "      <td>7</td>\n",
       "      <td>13</td>\n",
       "      <td>0</td>\n",
       "      <td>0</td>\n",
       "    </tr>\n",
       "    <tr>\n",
       "      <th>G2C2</th>\n",
       "      <td>31</td>\n",
       "      <td>16</td>\n",
       "      <td>47</td>\n",
       "      <td>46</td>\n",
       "    </tr>\n",
       "    <tr>\n",
       "      <th>G2C3</th>\n",
       "      <td>12</td>\n",
       "      <td>21</td>\n",
       "      <td>3</td>\n",
       "      <td>4</td>\n",
       "    </tr>\n",
       "    <tr>\n",
       "      <th>G3C1</th>\n",
       "      <td>0</td>\n",
       "      <td>36</td>\n",
       "      <td>0</td>\n",
       "      <td>0</td>\n",
       "    </tr>\n",
       "    <tr>\n",
       "      <th>G3C2</th>\n",
       "      <td>13</td>\n",
       "      <td>4</td>\n",
       "      <td>3</td>\n",
       "      <td>4</td>\n",
       "    </tr>\n",
       "    <tr>\n",
       "      <th>G3C3</th>\n",
       "      <td>37</td>\n",
       "      <td>10</td>\n",
       "      <td>47</td>\n",
       "      <td>46</td>\n",
       "    </tr>\n",
       "  </tbody>\n",
       "</table>\n",
       "</div>"
      ],
      "text/plain": [
       "     sepallength sepalwidth petallength petalwidth\n",
       "G1C1          43          1          50         50\n",
       "G1C2           6         30           0          0\n",
       "G1C3           1         19           0          0\n",
       "G2C1           7         13           0          0\n",
       "G2C2          31         16          47         46\n",
       "G2C3          12         21           3          4\n",
       "G3C1           0         36           0          0\n",
       "G3C2          13          4           3          4\n",
       "G3C3          37         10          47         46"
      ]
     },
     "execution_count": 62,
     "metadata": {},
     "output_type": "execute_result"
    }
   ],
   "source": [
    "#G1C1 means the number of class 1 observations in the first group of 50\n",
    "#G1C2 means the number of class 2 observations in the group, and so on\n",
    "k=0\n",
    "seperation_results_df = pd.DataFrame(columns=['sepallength','sepalwidth','petallength', 'petalwidth' ], index=['G1C1', 'G1C2', 'G1C3', 'G2C1', 'G2C2', 'G2C3', 'G3C1', 'G3C2', 'G3C3'])\n",
    "for j in [sorted_by_sepallength, sorted_by_sepalwidth, sorted_by_petallength, sorted_by_petalwidth]:\n",
    "    num_class1, num_class2, num_class3 = 0, 0, 0\n",
    "    for i in range(0,50):\n",
    "        c = j.iloc[i, 4]\n",
    "        if c == 1:\n",
    "            num_class1 = num_class1 + 1\n",
    "        if c == 2:\n",
    "            num_class2 = num_class2 + 1\n",
    "        if c == 3:\n",
    "            num_class3 = num_class3 + 1\n",
    "    seperation_results_df.iloc[0,k] = num_class1\n",
    "    seperation_results_df.iloc[1,k] = num_class2\n",
    "    seperation_results_df.iloc[2,k] = num_class3\n",
    "    num_class1, num_class2, num_class3 = 0, 0, 0\n",
    "    for i in range(50,100):\n",
    "        c = j.iloc[i, 4]\n",
    "        if c == 1:\n",
    "            num_class1 = num_class1 + 1\n",
    "        if c == 2:\n",
    "            num_class2 = num_class2 + 1\n",
    "        if c == 3:\n",
    "            num_class3 = num_class3 + 1\n",
    "    seperation_results_df.iloc[3,k] = num_class1\n",
    "    seperation_results_df.iloc[4,k] = num_class2\n",
    "    seperation_results_df.iloc[5,k] = num_class3\n",
    "    num_class1, num_class2, num_class3 = 0, 0, 0\n",
    "    for i in range(100,150):\n",
    "        c = j.iloc[i, 4]\n",
    "        if c == 1:\n",
    "            num_class1 = num_class1 + 1\n",
    "        if c == 2:\n",
    "            num_class2 = num_class2 + 1\n",
    "        if c == 3:\n",
    "            num_class3 = num_class3 + 1\n",
    "    seperation_results_df.iloc[6,k] = num_class1\n",
    "    seperation_results_df.iloc[7,k] = num_class2\n",
    "    seperation_results_df.iloc[8,k] = num_class3\n",
    "    num_class1, num_class2, num_class3 = 0, 0, 0\n",
    "    k = k+1\n",
    "seperation_results_df"
   ]
  },
  {
   "cell_type": "markdown",
   "metadata": {},
   "source": [
    "From the above table, I concluded that there is not linear separability between any of the classes, however petal length and petal width are a better indication of which class the observation belongs to compared to sepal length and width."
   ]
  },
  {
   "cell_type": "markdown",
   "metadata": {},
   "source": [
    "<b> Problem 3 Part (e) </b><br><br>\n",
    "&emsp;i.\tThere was no single feature that could linearly separate all three classes; however sepal length and sepal width could separate group 1 from the other 2 groups. <br><br>\n",
    "&emsp;ii.\tAs a metric to determine separation, I wrote a function to iterate through the sorted data frames and to count how many of each class was in the first group of 50, second group of 50, and the third group of 50.  Below I have a table for the results for each of the sorted lists, with the majority class highlighted in each row. If the majority class occupied all 50 positions, I considered the feature able to separate that class from the other. I used this metric because it is a straightforward way to determine if there is any comingling when the data is sorted by feature.\n",
    "\n",
    "![title](prob3partepic1.png)\n",
    "\n",
    "![title](prob3part3pic2.png)\n"
   ]
  },
  {
   "cell_type": "markdown",
   "metadata": {},
   "source": [
    "<b>Problem 4 Part (a)</b> <br>\n",
    "For my algorithm, I decided to implement the Wilks Outlier Detection as described in the Data Processing II document and as implemented in Trujillo-Ortiz, et al. (2008). Below is the pseudocode for the algorithm I implemented.<br><br>\n",
    "Preprocessing <br>\n",
    "&emsp;Remove the “class” column from the data frame<br>\n",
    "&emsp;Separate the three classes into three separate data frames<br>\n",
    "<br>\n",
    "Processing<br>\n",
    "&emsp;For each data frame:<br>\n",
    "&emsp;Find the inverse of the covariance matrix<br>\n",
    "&emsp;Find the mean for each of the features<br>\n",
    "&emsp;For each observation<br>\n",
    "&emsp;&emsp;Calculate the Malanobis distance<br>\n",
    "&emsp;See if the distance is greater or equal to the critical value described in Data Processing II<br>\n",
    "&emsp;&emsp;If yes, then print that at outlier was found, and at what index<br>\n",
    "<br>If no outliers are found, then print “no outliers found”\n"
   ]
  },
  {
   "cell_type": "markdown",
   "metadata": {},
   "source": [
    "<b>Problem 4 Part (b)</b><br>\n",
    "The time-complexity for this algorithm is O(n<sup>3</sup>) because it is dominated by the time required to find the covariance matrix for each of the classes.  \n"
   ]
  },
  {
   "cell_type": "markdown",
   "metadata": {},
   "source": [
    "<b>Problem 4 Part (c)</b><br>"
   ]
  },
  {
   "cell_type": "code",
   "execution_count": 63,
   "metadata": {},
   "outputs": [],
   "source": [
    "#preprocessing so that we can easily calculate covariance\n",
    "#split into 3 dataframes, one for each type\n",
    "grouped = iris_data_with_class.groupby('class')\n",
    "    #preprocessing c1, ppc2, ppc3\n",
    "ppc1 = grouped.get_group(1)\n",
    "del ppc1['class']\n",
    "class2_df = grouped.get_group(2)\n",
    "ppc2 = class2_df\n",
    "del ppc2['class']\n",
    "class3_df = grouped.get_group(3)\n",
    "ppc3 = class3_df\n",
    "del ppc3['class'] \n",
    "\n",
    "#create fake outlier for testing\n",
    "ppc3_with_outlier = ppc3.copy()\n",
    "ppc3_with_outlier.iloc[10][2] = 10"
   ]
  },
  {
   "cell_type": "code",
   "execution_count": 64,
   "metadata": {},
   "outputs": [
    {
     "name": "stdout",
     "output_type": "stream",
     "text": [
      "for class 1\n",
      "no outliers found\n",
      "for class 2\n",
      "no outliers found\n",
      "for class 3\n",
      "no outliers found\n"
     ]
    }
   ],
   "source": [
    "#determine if any otliers exist\n",
    "print('for class 1')\n",
    "find_outliers(ppc1, ACR(4,50))\n",
    "print('for class 2')\n",
    "find_outliers(ppc2, ACR(4,50))\n",
    "print('for class 3')\n",
    "find_outliers(ppc3, ACR(4,50))\n"
   ]
  },
  {
   "cell_type": "markdown",
   "metadata": {},
   "source": [
    "The results of using the Wilks Outlier detection method result in no outliers being identified. These results were confirmed by inputing the iris data into the implementation by Trujillo-Ortiz, et al. (2008)."
   ]
  },
  {
   "cell_type": "markdown",
   "metadata": {},
   "source": [
    "<b>Problem 4 Part (d)</b><br>\n",
    "Below I created 3 pdfs, each of which contain the 6 different combos of feature vs feature. Th results are saved in the output folder. Out of all of the plots, I only spotted two possible outliers, observation #41 and observation #106. <br>\n",
    "#41 is in the class 1 pdf plot of sepallength vs sepalwidth with values of 4.5 and 2.1 respectively.<br>\n",
    "#106 is in the class 3 pdf plot of sepallength vs petallength with values of 4.9 and 4.5 respectively.<br>"
   ]
  },
  {
   "cell_type": "code",
   "execution_count": 65,
   "metadata": {},
   "outputs": [],
   "source": [
    "pp = PdfPages('class 1 plots looking for outiers.pdf')\n",
    "    \n",
    "make_plot(ppc1, 'sepallength', 'sepalwidth', pp)\n",
    "make_plot(ppc1, 'sepallength', 'petalwidth', pp)\n",
    "make_plot(ppc1, 'sepallength', 'petallength', pp)\n",
    "make_plot(ppc1, 'sepalwidth', 'petalwidth', pp)\n",
    "make_plot(ppc1, 'sepalwidth', 'petallength', pp)\n",
    "make_plot(ppc1, 'petalwidth', 'petallength', pp)    \n",
    "\n",
    "pp.close()    \n",
    "\n",
    "pp = PdfPages('class 2 plots looking for outiers.pdf')\n",
    "    \n",
    "make_plot(ppc2, 'sepallength', 'sepalwidth', pp)\n",
    "make_plot(ppc2, 'sepallength', 'petalwidth', pp)\n",
    "make_plot(ppc2, 'sepallength', 'petallength', pp)\n",
    "make_plot(ppc2, 'sepalwidth', 'petalwidth', pp)\n",
    "make_plot(ppc2, 'sepalwidth', 'petallength', pp)\n",
    "make_plot(ppc2, 'petalwidth', 'petallength', pp)    \n",
    "\n",
    "pp.close() \n",
    "\n",
    "pp = PdfPages('class 3 plots looking for outiers.pdf')\n",
    "    \n",
    "make_plot(ppc3, 'sepallength', 'sepalwidth', pp)\n",
    "make_plot(ppc3, 'sepallength', 'petalwidth', pp)\n",
    "make_plot(ppc3, 'sepallength', 'petallength', pp)\n",
    "make_plot(ppc3, 'sepalwidth', 'petalwidth', pp)\n",
    "make_plot(ppc3, 'sepalwidth', 'petallength', pp)\n",
    "make_plot(ppc3, 'petalwidth', 'petallength', pp)    \n",
    "\n",
    "pp.close()"
   ]
  },
  {
   "cell_type": "markdown",
   "metadata": {},
   "source": [
    "Overall, I do not like the process of plotting data and looking for outliers in the way described in the prompt because it is arbitrary depending on whose viewing the data and how the plots are presented. It might be easier to identify outliers if the ranges of the x and y axis are extended. Another issue is that there are 4 features, and we cannot visualize that in a sinlge plot. Just because a point looks like an outlier does not mean that it actually is in terms of all features. I made a second  method to visualize outliers where once an outlier is identified, the user can display two charts: sepallength vs sepalwidth and petallength vs petalwidth. I chose those two plots because the sepal features are closer related to eachother than a sepal feature and a petal feature. The function then labels the outlier observation so that the observer can visually verify that it is indeed an outlier. Below is an example, where I inserted a fake outlier into the class 3 data, then plotted it to show what a user can expect when an outlier does exist."
   ]
  },
  {
   "cell_type": "code",
   "execution_count": 66,
   "metadata": {},
   "outputs": [
    {
     "name": "stdout",
     "output_type": "stream",
     "text": [
      "for class 3 with one fake outlier at index 10\n",
      "outlier at index 10\n"
     ]
    },
    {
     "data": {
      "image/png": "[encoded data removed]",
      "text/plain": [
       "<Figure size 432x288 with 1 Axes>"
      ]
     },
     "metadata": {
      "needs_background": "light"
     },
     "output_type": "display_data"
    },
    {
     "data": {
      "image/png": "[encoded data removed]",
      "text/plain": [
       "<Figure size 432x288 with 1 Axes>"
      ]
     },
     "metadata": {
      "needs_background": "light"
     },
     "output_type": "display_data"
    }
   ],
   "source": [
    "print('for class 3 with one fake outlier at index 10')\n",
    "find_outliers(ppc3_with_outlier, ACR(4,50))\n",
    "plot_outlier(ppc3_with_outlier, 10)"
   ]
  },
  {
   "cell_type": "markdown",
   "metadata": {},
   "source": [
    "<b>Problem 4 Part (e)</b><br>\n",
    "i.\tUsing the Wilks Outlier detection method as described in the Data Processing II document, no outliers were detected. I did not include the two observations identified in problem 4 part (d) because that was an arbitrary observation. \n"
   ]
  },
  {
   "cell_type": "markdown",
   "metadata": {},
   "source": [
    "<b>Problem 5 Part (a)</b><br> \n",
    "For this problem I implemented a Chi-squared statistical test to rank the features. I used the following link:<br>\n",
    "https://www.datacamp.com/community/tutorials/feature-selection-python\n",
    "<br>Below is the pseudocode for the algorithm:<br><br>\n",
    "preprocessing<br>\n",
    "&emsp;Separate the features from class into two separate numPy arrays<br>\n",
    "processing<br>\n",
    "&emsp;Perform the Chi Squared test<br>\n",
    "&emsp;Print results<br>\n",
    "<br>\n",
    "<b>Problem 5 part (b)</b><br>\n",
    "I am not sure of the underlying algorithm to compute the Chi-Squared statistic, but I am assuming that the function must iterate through all values once, so the running time is O(n).\n"
   ]
  },
  {
   "cell_type": "markdown",
   "metadata": {},
   "source": [
    "<b>Problem 5 Part (c) </b>"
   ]
  },
  {
   "cell_type": "code",
   "execution_count": 67,
   "metadata": {},
   "outputs": [
    {
     "name": "stdout",
     "output_type": "stream",
     "text": [
      "[ 10.818   3.594 116.17   67.245]\n"
     ]
    }
   ],
   "source": [
    "array = iris_data_with_class.values\n",
    "X = array[:, 0:4]\n",
    "Y = array[:,4]\n",
    "# Feature extraction\n",
    "test = SelectKBest(score_func=chi2, k=4)\n",
    "fit = test.fit(X, Y)\n",
    "\n",
    "# Summarize scores\n",
    "np.set_printoptions(precision=3)\n",
    "print(fit.scores_)"
   ]
  },
  {
   "cell_type": "markdown",
   "metadata": {},
   "source": [
    "<b>Problem 5 part (d)</b><br>\n",
    "From part (c), the features were given the following scores:<br><br>\n",
    "\n",
    "Sepal length: 116.17<br>\n",
    "Sepal width: 67.245<br>\n",
    "Petal length: 10.818<br>\n",
    "Petal width: 3.594<br>\n",
    "<br>\n",
    "The higher the score, the more that feature effects which class the observation belongs too. The above findings are confirmed in the results from Problem 3 Part (e). The only linear separation occurs when sorted by sepal length and petal length, where class 1 is separated from class 2 and 3. There is also pretty good separability between class 2 and 3, as only 4 observations crossed groups in the sorted lists. \n"
   ]
  },
  {
   "cell_type": "markdown",
   "metadata": {},
   "source": [
    "<b>Problem 5 part (e)</b><br>\n",
    "i.\tsepal length and width can separate class 1 from class 2 and 3. This is because there is a range of lengths that only fall in the class 1 category, as flowers from the other two classes have a greater sepal length and width. <br>\n",
    "ii.\tPetal width has an extremely low score from problem 5 part (d). There is little variability is petal width among the different flowers observed. We can conclude that this feature could be dropped in a machine learning algorithm that is looking to predict which class a flower belongs.<br>\n",
    "iii.\tProblem 5 part (d) includes a metric, and so yes, a metric can be developed. This is useful because it gives us an idea of how much better one feature is compared to another.\n"
   ]
  }
 ],
 "metadata": {
  "kernelspec": {
   "display_name": "Python 3",
   "language": "python",
   "name": "python3"
  },
  "language_info": {
   "codemirror_mode": {
    "name": "ipython",
    "version": 3
   },
   "file_extension": ".py",
   "mimetype": "text/x-python",
   "name": "python",
   "nbconvert_exporter": "python",
   "pygments_lexer": "ipython3",
   "version": "3.7.3"
  }
 },
 "nbformat": 4,
 "nbformat_minor": 4
}
